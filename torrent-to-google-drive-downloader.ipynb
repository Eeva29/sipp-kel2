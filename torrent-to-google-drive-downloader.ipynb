{
  "cells": [
    {
      "cell_type": "markdown",
      "metadata": {
        "id": "view-in-github",
        "colab_type": "text"
      },
      "source": [
        "<a href=\"https://colab.research.google.com/github/Eeva29/sipp-kel2/blob/main/torrent-to-google-drive-downloader.ipynb\" target=\"_parent\"><img src=\"https://colab.research.google.com/assets/colab-badge.svg\" alt=\"Open In Colab\"/></a>"
      ]
    },
    {
      "cell_type": "markdown",
      "metadata": {
        "id": "aQuWDmfm9YOi"
      },
      "source": [
        "# Torrent To Google Drive Downloader"
      ]
    },
    {
      "cell_type": "markdown",
      "metadata": {
        "id": "qYk44mBwJf6E"
      },
      "source": [
        "**Important Note:** To get more disk space:\n",
        "> Go to Runtime -> Change Runtime and give GPU as the Hardware Accelerator.  You will get around 384GB to download any torrent you want."
      ]
    },
    {
      "cell_type": "markdown",
      "metadata": {
        "id": "NaFa7M-e9YOr"
      },
      "source": [
        "### Install libtorrent and Initialize Session"
      ]
    },
    {
      "cell_type": "code",
      "execution_count": 2,
      "metadata": {
        "colab": {
          "base_uri": "https://localhost:8080/"
        },
        "id": "m6hF0emftx4h",
        "outputId": "3f43fe20-a3b5-49b9-cbfc-580dfeaf31bc"
      },
      "outputs": [
        {
          "output_type": "stream",
          "name": "stdout",
          "text": [
            "Requirement already satisfied: lbry-libtorrent in /usr/local/lib/python3.11/dist-packages (1.2.4)\n",
            "\u001b[33mWARNING: Error parsing dependencies of libtorrent: Invalid version: '2.0.5-build-libtorrent-rasterbar-qrM5vM-libtorrent-rasterbar-2.0.5-bindings-python'\u001b[0m\u001b[33m\n",
            "Reading package lists... Done\n",
            "Building dependency tree... Done\n",
            "Reading state information... Done\n",
            "python3-libtorrent is already the newest version (2.0.5-5).\n",
            "0 upgraded, 0 newly installed, 0 to remove and 35 not upgraded.\n"
          ]
        },
        {
          "output_type": "stream",
          "name": "stderr",
          "text": [
            "<frozen importlib._bootstrap>:241: RuntimeWarning: to-Python converter for std::pair<int, int> already registered; second conversion method ignored.\n",
            "<frozen importlib._bootstrap>:241: RuntimeWarning: to-Python converter for std::pair<libtorrent::aux::strong_typedef<int, libtorrent::aux::piece_index_tag, void>, libtorrent::aux::strong_typedef<unsigned char, libtorrent::download_priority_tag, void> > already registered; second conversion method ignored.\n",
            "<frozen importlib._bootstrap>:241: RuntimeWarning: to-Python converter for boost::asio::ip::basic_endpoint<boost::asio::ip::tcp> already registered; second conversion method ignored.\n",
            "<frozen importlib._bootstrap>:241: RuntimeWarning: to-Python converter for boost::asio::ip::basic_endpoint<boost::asio::ip::udp> already registered; second conversion method ignored.\n",
            "<frozen importlib._bootstrap>:241: RuntimeWarning: to-Python converter for boost::asio::ip::address already registered; second conversion method ignored.\n",
            "<frozen importlib._bootstrap>:241: RuntimeWarning: to-Python converter for std::pair<std::__cxx11::basic_string<char, std::char_traits<char>, std::allocator<char> >, int> already registered; second conversion method ignored.\n",
            "<frozen importlib._bootstrap>:241: RuntimeWarning: to-Python converter for std::vector<libtorrent::stats_metric, std::allocator<libtorrent::stats_metric> > already registered; second conversion method ignored.\n",
            "<frozen importlib._bootstrap>:241: RuntimeWarning: to-Python converter for std::vector<libtorrent::open_file_state, std::allocator<libtorrent::open_file_state> > already registered; second conversion method ignored.\n",
            "<frozen importlib._bootstrap>:241: RuntimeWarning: to-Python converter for std::vector<libtorrent::digest32<160l>, std::allocator<libtorrent::digest32<160l> > > already registered; second conversion method ignored.\n",
            "<frozen importlib._bootstrap>:241: RuntimeWarning: to-Python converter for std::vector<std::__cxx11::basic_string<char, std::char_traits<char>, std::allocator<char> >, std::allocator<std::__cxx11::basic_string<char, std::char_traits<char>, std::allocator<char> > > > already registered; second conversion method ignored.\n",
            "<frozen importlib._bootstrap>:241: RuntimeWarning: to-Python converter for std::vector<int, std::allocator<int> > already registered; second conversion method ignored.\n",
            "<frozen importlib._bootstrap>:241: RuntimeWarning: to-Python converter for std::vector<libtorrent::aux::strong_typedef<unsigned char, libtorrent::download_priority_tag, void>, std::allocator<libtorrent::aux::strong_typedef<unsigned char, libtorrent::download_priority_tag, void> > > already registered; second conversion method ignored.\n",
            "<frozen importlib._bootstrap>:241: RuntimeWarning: to-Python converter for std::vector<boost::asio::ip::basic_endpoint<boost::asio::ip::tcp>, std::allocator<boost::asio::ip::basic_endpoint<boost::asio::ip::tcp> > > already registered; second conversion method ignored.\n",
            "<frozen importlib._bootstrap>:241: RuntimeWarning: to-Python converter for std::vector<boost::asio::ip::basic_endpoint<boost::asio::ip::udp>, std::allocator<boost::asio::ip::basic_endpoint<boost::asio::ip::udp> > > already registered; second conversion method ignored.\n",
            "<frozen importlib._bootstrap>:241: RuntimeWarning: to-Python converter for std::vector<std::pair<std::__cxx11::basic_string<char, std::char_traits<char>, std::allocator<char> >, int>, std::allocator<std::pair<std::__cxx11::basic_string<char, std::char_traits<char>, std::allocator<char> >, int> > > already registered; second conversion method ignored.\n",
            "<frozen importlib._bootstrap>:241: RuntimeWarning: to-Python converter for libtorrent::typed_bitfield<libtorrent::aux::strong_typedef<int, libtorrent::aux::piece_index_tag, void> > already registered; second conversion method ignored.\n",
            "<frozen importlib._bootstrap>:241: RuntimeWarning: to-Python converter for libtorrent::bitfield already registered; second conversion method ignored.\n",
            "<frozen importlib._bootstrap>:241: RuntimeWarning: to-Python converter for libtorrent::aux::strong_typedef<int, libtorrent::queue_position_tag, void> already registered; second conversion method ignored.\n",
            "<frozen importlib._bootstrap>:241: RuntimeWarning: to-Python converter for libtorrent::aux::strong_typedef<int, libtorrent::aux::piece_index_tag, void> already registered; second conversion method ignored.\n",
            "<frozen importlib._bootstrap>:241: RuntimeWarning: to-Python converter for libtorrent::aux::strong_typedef<unsigned char, libtorrent::download_priority_tag, void> already registered; second conversion method ignored.\n",
            "<frozen importlib._bootstrap>:241: RuntimeWarning: to-Python converter for libtorrent::aux::strong_typedef<int, libtorrent::aux::file_index_tag, void> already registered; second conversion method ignored.\n",
            "<frozen importlib._bootstrap>:241: RuntimeWarning: to-Python converter for libtorrent::aux::strong_typedef<int, libtorrent::port_mapping_tag, void> already registered; second conversion method ignored.\n",
            "<frozen importlib._bootstrap>:241: RuntimeWarning: to-Python converter for libtorrent::aux::strong_typedef<unsigned int, libtorrent::peer_class_tag, void> already registered; second conversion method ignored.\n",
            "<frozen importlib._bootstrap>:241: RuntimeWarning: to-Python converter for libtorrent::flags::bitfield_flag<unsigned long, libtorrent::torrent_flags_tag, void> already registered; second conversion method ignored.\n",
            "<frozen importlib._bootstrap>:241: RuntimeWarning: to-Python converter for libtorrent::flags::bitfield_flag<unsigned int, libtorrent::peer_flags_tag, void> already registered; second conversion method ignored.\n",
            "<frozen importlib._bootstrap>:241: RuntimeWarning: to-Python converter for libtorrent::flags::bitfield_flag<unsigned char, libtorrent::peer_source_flags_tag, void> already registered; second conversion method ignored.\n",
            "<frozen importlib._bootstrap>:241: RuntimeWarning: to-Python converter for libtorrent::flags::bitfield_flag<unsigned char, libtorrent::bandwidth_state_flags_tag, void> already registered; second conversion method ignored.\n",
            "<frozen importlib._bootstrap>:241: RuntimeWarning: to-Python converter for libtorrent::flags::bitfield_flag<unsigned char, libtorrent::file_open_mode_tag, void> already registered; second conversion method ignored.\n",
            "<frozen importlib._bootstrap>:241: RuntimeWarning: to-Python converter for libtorrent::flags::bitfield_flag<unsigned int, libtorrent::picker_flags_tag, void> already registered; second conversion method ignored.\n",
            "<frozen importlib._bootstrap>:241: RuntimeWarning: to-Python converter for libtorrent::flags::bitfield_flag<unsigned int, libtorrent::status_flags_tag, void> already registered; second conversion method ignored.\n",
            "<frozen importlib._bootstrap>:241: RuntimeWarning: to-Python converter for libtorrent::flags::bitfield_flag<unsigned int, libtorrent::alert_category_tag, void> already registered; second conversion method ignored.\n",
            "<frozen importlib._bootstrap>:241: RuntimeWarning: to-Python converter for libtorrent::flags::bitfield_flag<unsigned char, libtorrent::resume_data_flags_tag, void> already registered; second conversion method ignored.\n",
            "<frozen importlib._bootstrap>:241: RuntimeWarning: to-Python converter for libtorrent::flags::bitfield_flag<unsigned char, libtorrent::add_piece_flags_tag, void> already registered; second conversion method ignored.\n",
            "<frozen importlib._bootstrap>:241: RuntimeWarning: to-Python converter for libtorrent::flags::bitfield_flag<unsigned char, libtorrent::pause_flags_tag, void> already registered; second conversion method ignored.\n",
            "<frozen importlib._bootstrap>:241: RuntimeWarning: to-Python converter for libtorrent::flags::bitfield_flag<unsigned char, libtorrent::deadline_flags_tag, void> already registered; second conversion method ignored.\n",
            "<frozen importlib._bootstrap>:241: RuntimeWarning: to-Python converter for libtorrent::flags::bitfield_flag<unsigned int, libtorrent::save_state_flags_tag, void> already registered; second conversion method ignored.\n",
            "<frozen importlib._bootstrap>:241: RuntimeWarning: to-Python converter for libtorrent::flags::bitfield_flag<unsigned char, libtorrent::session_flags_tag, void> already registered; second conversion method ignored.\n",
            "<frozen importlib._bootstrap>:241: RuntimeWarning: to-Python converter for libtorrent::flags::bitfield_flag<unsigned char, libtorrent::remove_flags_tag, void> already registered; second conversion method ignored.\n",
            "<frozen importlib._bootstrap>:241: RuntimeWarning: to-Python converter for libtorrent::flags::bitfield_flag<unsigned char, libtorrent::reopen_network_flags_tag, void> already registered; second conversion method ignored.\n",
            "<frozen importlib._bootstrap>:241: RuntimeWarning: to-Python converter for libtorrent::flags::bitfield_flag<unsigned char, libtorrent::file_flags_tag, void> already registered; second conversion method ignored.\n",
            "<frozen importlib._bootstrap>:241: RuntimeWarning: to-Python converter for libtorrent::flags::bitfield_flag<unsigned int, libtorrent::create_flags_tag, void> already registered; second conversion method ignored.\n",
            "<frozen importlib._bootstrap>:241: RuntimeWarning: to-Python converter for libtorrent::flags::bitfield_flag<unsigned char, libtorrent::pex_flags_tag, void> already registered; second conversion method ignored.\n",
            "<frozen importlib._bootstrap>:241: RuntimeWarning: to-Python converter for libtorrent::flags::bitfield_flag<unsigned char, libtorrent::reannounce_flags_tag, void> already registered; second conversion method ignored.\n",
            "<frozen importlib._bootstrap>:241: RuntimeWarning: to-Python converter for boost::basic_string_view<char, std::char_traits<char> > already registered; second conversion method ignored.\n",
            "<frozen importlib._bootstrap>:241: RuntimeWarning: to-Python converter for libtorrent::aux::noexcept_movable<boost::asio::ip::address> already registered; second conversion method ignored.\n",
            "<frozen importlib._bootstrap>:241: RuntimeWarning: to-Python converter for libtorrent::aux::noexcept_movable<boost::asio::ip::basic_endpoint<boost::asio::ip::tcp> > already registered; second conversion method ignored.\n",
            "<frozen importlib._bootstrap>:241: RuntimeWarning: to-Python converter for libtorrent::aux::noexcept_movable<boost::asio::ip::basic_endpoint<boost::asio::ip::udp> > already registered; second conversion method ignored.\n",
            "<frozen importlib._bootstrap>:241: RuntimeWarning: to-Python converter for libtorrent::aux::noexcept_movable<std::vector<libtorrent::stats_metric, std::allocator<libtorrent::stats_metric> > > already registered; second conversion method ignored.\n",
            "<frozen importlib._bootstrap>:241: RuntimeWarning: to-Python converter for libtorrent::aux::noexcept_movable<std::vector<libtorrent::open_file_state, std::allocator<libtorrent::open_file_state> > > already registered; second conversion method ignored.\n",
            "<frozen importlib._bootstrap>:241: RuntimeWarning: to-Python converter for libtorrent::aux::noexcept_movable<std::vector<libtorrent::digest32<160l>, std::allocator<libtorrent::digest32<160l> > > > already registered; second conversion method ignored.\n",
            "<frozen importlib._bootstrap>:241: RuntimeWarning: to-Python converter for libtorrent::aux::noexcept_movable<std::vector<std::__cxx11::basic_string<char, std::char_traits<char>, std::allocator<char> >, std::allocator<std::__cxx11::basic_string<char, std::char_traits<char>, std::allocator<char> > > > > already registered; second conversion method ignored.\n",
            "<frozen importlib._bootstrap>:241: RuntimeWarning: to-Python converter for libtorrent::aux::noexcept_movable<std::vector<int, std::allocator<int> > > already registered; second conversion method ignored.\n",
            "<frozen importlib._bootstrap>:241: RuntimeWarning: to-Python converter for libtorrent::aux::noexcept_movable<std::vector<libtorrent::aux::strong_typedef<unsigned char, libtorrent::download_priority_tag, void>, std::allocator<libtorrent::aux::strong_typedef<unsigned char, libtorrent::download_priority_tag, void> > > > already registered; second conversion method ignored.\n",
            "<frozen importlib._bootstrap>:241: RuntimeWarning: to-Python converter for libtorrent::aux::noexcept_movable<std::vector<boost::asio::ip::basic_endpoint<boost::asio::ip::tcp>, std::allocator<boost::asio::ip::basic_endpoint<boost::asio::ip::tcp> > > > already registered; second conversion method ignored.\n",
            "<frozen importlib._bootstrap>:241: RuntimeWarning: to-Python converter for libtorrent::aux::noexcept_movable<std::vector<boost::asio::ip::basic_endpoint<boost::asio::ip::udp>, std::allocator<boost::asio::ip::basic_endpoint<boost::asio::ip::udp> > > > already registered; second conversion method ignored.\n",
            "<frozen importlib._bootstrap>:241: RuntimeWarning: to-Python converter for libtorrent::aux::noexcept_movable<std::vector<std::pair<std::__cxx11::basic_string<char, std::char_traits<char>, std::allocator<char> >, int>, std::allocator<std::pair<std::__cxx11::basic_string<char, std::char_traits<char>, std::allocator<char> >, int> > > > already registered; second conversion method ignored.\n",
            "<frozen importlib._bootstrap>:241: RuntimeWarning: to-Python converter for libtorrent::aux::noexcept_movable<std::map<libtorrent::aux::strong_typedef<int, libtorrent::aux::piece_index_tag, void>, libtorrent::bitfield, std::less<libtorrent::aux::strong_typedef<int, libtorrent::aux::piece_index_tag, void> >, std::allocator<std::pair<libtorrent::aux::strong_typedef<int, libtorrent::aux::piece_index_tag, void> const, libtorrent::bitfield> > > > already registered; second conversion method ignored.\n",
            "<frozen importlib._bootstrap>:241: RuntimeWarning: to-Python converter for libtorrent::aux::noexcept_movable<std::map<libtorrent::aux::strong_typedef<int, libtorrent::aux::file_index_tag, void>, std::__cxx11::basic_string<char, std::char_traits<char>, std::allocator<char> >, std::less<libtorrent::aux::strong_typedef<int, libtorrent::aux::file_index_tag, void> >, std::allocator<std::pair<libtorrent::aux::strong_typedef<int, libtorrent::aux::file_index_tag, void> const, std::__cxx11::basic_string<char, std::char_traits<char>, std::allocator<char> > > > > > already registered; second conversion method ignored.\n",
            "<frozen importlib._bootstrap>:241: RuntimeWarning: to-Python converter for std::map<libtorrent::aux::strong_typedef<int, libtorrent::aux::file_index_tag, void>, std::__cxx11::basic_string<char, std::char_traits<char>, std::allocator<char> >, std::less<libtorrent::aux::strong_typedef<int, libtorrent::aux::file_index_tag, void> >, std::allocator<std::pair<libtorrent::aux::strong_typedef<int, libtorrent::aux::file_index_tag, void> const, std::__cxx11::basic_string<char, std::char_traits<char>, std::allocator<char> > > > > already registered; second conversion method ignored.\n",
            "<frozen importlib._bootstrap>:241: RuntimeWarning: to-Python converter for libtorrent::aux::noexcept_movable<std::vector<char, std::allocator<char> > > already registered; second conversion method ignored.\n",
            "<frozen importlib._bootstrap>:241: RuntimeWarning: to-Python converter for category_holder already registered; second conversion method ignored.\n",
            "<frozen importlib._bootstrap>:241: RuntimeWarning: to-Python converter for boost::system::error_code already registered; second conversion method ignored.\n",
            "<frozen importlib._bootstrap>:241: RuntimeWarning: to-Python converter for bytes already registered; second conversion method ignored.\n",
            "<frozen importlib._bootstrap>:241: RuntimeWarning: to-Python converter for libtorrent::fingerprint already registered; second conversion method ignored.\n",
            "<frozen importlib._bootstrap>:241: RuntimeWarning: to-Python converter for libtorrent::digest32<160l> already registered; second conversion method ignored.\n",
            "<frozen importlib._bootstrap>:241: RuntimeWarning: to-Python converter for std::shared_ptr<libtorrent::entry> already registered; second conversion method ignored.\n",
            "<frozen importlib._bootstrap>:241: RuntimeWarning: to-Python converter for libtorrent::entry already registered; second conversion method ignored.\n"
          ]
        }
      ],
      "source": [
        "!python -m pip install lbry-libtorrent\n",
        "!apt install python3-libtorrent\n",
        "\n",
        "import libtorrent as lt\n",
        "\n",
        "ses = lt.session()\n",
        "ses.listen_on(6881, 6891)\n",
        "downloads = []"
      ]
    },
    {
      "cell_type": "markdown",
      "metadata": {
        "id": "Uf90U73y9YOj"
      },
      "source": [
        "### Mount Google Drive\n",
        "To stream files we need to mount Google Drive."
      ]
    },
    {
      "cell_type": "code",
      "execution_count": 3,
      "metadata": {
        "colab": {
          "base_uri": "https://localhost:8080/"
        },
        "id": "oWM9l2fvtuvO",
        "outputId": "9f8efdf2-9137-46dc-b08d-920986e550c5"
      },
      "outputs": [
        {
          "output_type": "stream",
          "name": "stdout",
          "text": [
            "Mounted at /content/drive\n"
          ]
        }
      ],
      "source": [
        "from google.colab import drive\n",
        "\n",
        "drive.mount(\"/content/drive\")"
      ]
    },
    {
      "cell_type": "markdown",
      "metadata": {
        "id": "R_1XuuIf9YOn"
      },
      "source": [
        "### Add From Torrent File\n",
        "You can run this cell to add more files as many times as you want"
      ]
    },
    {
      "cell_type": "code",
      "execution_count": null,
      "metadata": {
        "id": "0et2A6N3udA0"
      },
      "outputs": [],
      "source": [
        "from google.colab import files\n",
        "\n",
        "source = files.upload()\n",
        "params = {\n",
        "    \"save_path\": \"/content/drive/My Drive/Torrent\",\n",
        "    \"ti\": lt.torrent_info(list(source.keys())[0]),\n",
        "}\n",
        "downloads.append(ses.add_torrent(params))"
      ]
    },
    {
      "cell_type": "markdown",
      "metadata": {
        "id": "WD-6M6eZyzmj"
      },
      "source": [
        "### Add From Magnet Link\n",
        "You can run this cell to add more files as many times as you want"
      ]
    },
    {
      "cell_type": "code",
      "execution_count": 7,
      "metadata": {
        "colab": {
          "base_uri": "https://localhost:8080/"
        },
        "id": "Cwi1GMlxy3te",
        "outputId": "d49ebb1b-fbb6-4022-eee7-1c91ad51781f"
      },
      "outputs": [
        {
          "name": "stdout",
          "output_type": "stream",
          "text": [
            "Enter Magnet Link Or Type Exit: magnet:?xt=urn:btih:b6fda61cb7874fdda29ef1b6ddb1e31419a21edb&dn=%5BMagicStar%5D%20MIU404%20%5BWEBDL%5D%20%5B1080p%5D%20%5BNetflix%5D%20%5BJPN_ENG_CHS_CHT_SUB%5D&tr=http%3A%2F%2Fnyaa.tracker.wf%3A7777%2Fannounce&tr=udp%3A%2F%2Fopen.stealth.si%3A80%2Fannounce&tr=udp%3A%2F%2Ftracker.opentrackr.org%3A1337%2Fannounce&tr=udp%3A%2F%2Fexodus.desync.com%3A6969%2Fannounce&tr=udp%3A%2F%2Ftracker.torrent.eu.org%3A451%2Fannounce\n",
            "Enter Magnet Link Or Type Exit: magnet:?xt=urn:btih:edef12b085323e0c5b76889f3d415143e87f30f1&dn=%5BMagicStar%5D%20MIU404%20EP08%20%5BWEBDL%5D%20%5B1080p%5D&tr=http%3A%2F%2Fnyaa.tracker.wf%3A7777%2Fannounce&tr=udp%3A%2F%2Fopen.stealth.si%3A80%2Fannounce&tr=udp%3A%2F%2Ftracker.opentrackr.org%3A1337%2Fannounce&tr=udp%3A%2F%2Fexodus.desync.com%3A6969%2Fannounce&tr=udp%3A%2F%2Ftracker.torrent.eu.org%3A451%2Fannounce\n",
            "Enter Magnet Link Or Type Exit: magnet:?xt=urn:btih:e5fc6cecbe3cd193ddb3cbc1a0c206cbba7b78c3&dn=%5BMagicStar%5D%20MIU404%20EP09%20%5BWEBDL%5D%20%5B1080p%5D&tr=http%3A%2F%2Fnyaa.tracker.wf%3A7777%2Fannounce&tr=udp%3A%2F%2Fopen.stealth.si%3A80%2Fannounce&tr=udp%3A%2F%2Ftracker.opentrackr.org%3A1337%2Fannounce&tr=udp%3A%2F%2Fexodus.desync.com%3A6969%2Fannounce&tr=udp%3A%2F%2Ftracker.torrent.eu.org%3A451%2Fannounce\n",
            "Enter Magnet Link Or Type Exit: magnet:?xt=urn:btih:335fe423e5e57b11ea818c4ff63ac35034bfe388&dn=%5BMagicStar%5D%20MIU404%20EP10%20%5BWEBDL%5D%20%5B1080p%5D&tr=http%3A%2F%2Fnyaa.tracker.wf%3A7777%2Fannounce&tr=udp%3A%2F%2Fopen.stealth.si%3A80%2Fannounce&tr=udp%3A%2F%2Ftracker.opentrackr.org%3A1337%2Fannounce&tr=udp%3A%2F%2Fexodus.desync.com%3A6969%2Fannounce&tr=udp%3A%2F%2Ftracker.torrent.eu.org%3A451%2Fannounce\n",
            "Enter Magnet Link Or Type Exit: magnet:?xt=urn:btih:a5694d14ce58c7ff294e5a6f0b549364f1b1e27d&dn=%5BMagicStar%5D%20MIU404%20EP11%20END%20%5BWEBDL%5D%20%5B1080p%5D&tr=http%3A%2F%2Fnyaa.tracker.wf%3A7777%2Fannounce&tr=udp%3A%2F%2Fopen.stealth.si%3A80%2Fannounce&tr=udp%3A%2F%2Ftracker.opentrackr.org%3A1337%2Fannounce&tr=udp%3A%2F%2Fexodus.desync.com%3A6969%2Fannounce&tr=udp%3A%2F%2Ftracker.torrent.eu.org%3A451%2Fannounce\n",
            "Enter Magnet Link Or Type Exit: magnet:?xt=urn:btih:f40146cd84547ae09f52d4b5c35e1c93f1d4de22&dn=%5BMagicStar%5D%20MIU404%20EP01%20%5BWEBDL%5D%20%5B1080p%5D&tr=http%3A%2F%2Fnyaa.tracker.wf%3A7777%2Fannounce&tr=udp%3A%2F%2Fopen.stealth.si%3A80%2Fannounce&tr=udp%3A%2F%2Ftracker.opentrackr.org%3A1337%2Fannounce&tr=udp%3A%2F%2Fexodus.desync.com%3A6969%2Fannounce&tr=udp%3A%2F%2Ftracker.torrent.eu.org%3A451%2Fannounce\n",
            "Enter Magnet Link Or Type Exit: magnet:?xt=urn:btih:17aff8733217f15345fd7023cb125204101b13fc&dn=%5BMagicStar%5D%20MIU404%20EP04%20%5BWEBDL%5D%20%5B1080p%5D&tr=http%3A%2F%2Fnyaa.tracker.wf%3A7777%2Fannounce&tr=udp%3A%2F%2Fopen.stealth.si%3A80%2Fannounce&tr=udp%3A%2F%2Ftracker.opentrackr.org%3A1337%2Fannounce&tr=udp%3A%2F%2Fexodus.desync.com%3A6969%2Fannounce&tr=udp%3A%2F%2Ftracker.torrent.eu.org%3A451%2Fannounce\n",
            "Enter Magnet Link Or Type Exit: magnet:?xt=urn:btih:c3dcfea9187ea0249f2cd2a51ab1f9931b526724&dn=%5BMagicStar%5D%20MIU404%20EP06%20%5BWEBDL%5D%20%5B1080p%5D&tr=http%3A%2F%2Fnyaa.tracker.wf%3A7777%2Fannounce&tr=udp%3A%2F%2Fopen.stealth.si%3A80%2Fannounce&tr=udp%3A%2F%2Ftracker.opentrackr.org%3A1337%2Fannounce&tr=udp%3A%2F%2Fexodus.desync.com%3A6969%2Fannounce&tr=udp%3A%2F%2Ftracker.torrent.eu.org%3A451%2Fannounce\n",
            "Enter Magnet Link Or Type Exit: magnet:?xt=urn:btih:e4e4eb78189754c6dd0a66e2334511b2e5f7ee30&dn=%5BMagicStar%5D%20MIU404%20EP07%20%5BWEBDL%5D%20%5B1080p%5D&tr=http%3A%2F%2Fnyaa.tracker.wf%3A7777%2Fannounce&tr=udp%3A%2F%2Fopen.stealth.si%3A80%2Fannounce&tr=udp%3A%2F%2Ftracker.opentrackr.org%3A1337%2Fannounce&tr=udp%3A%2F%2Fexodus.desync.com%3A6969%2Fannounce&tr=udp%3A%2F%2Ftracker.torrent.eu.org%3A451%2Fannounce\n",
            "Enter Magnet Link Or Type Exit: magnet:?xt=urn:btih:113a52ab473981b43bc69d36076a55a77e8f4401&dn=%5BMagicStar%5D%20MIU404%20EP02%20%5BWEBDL%5D%20%5B1080p%5D&tr=http%3A%2F%2Fnyaa.tracker.wf%3A7777%2Fannounce&tr=udp%3A%2F%2Fopen.stealth.si%3A80%2Fannounce&tr=udp%3A%2F%2Ftracker.opentrackr.org%3A1337%2Fannounce&tr=udp%3A%2F%2Fexodus.desync.com%3A6969%2Fannounce&tr=udp%3A%2F%2Ftracker.torrent.eu.org%3A451%2Fannounce\n",
            "Enter Magnet Link Or Type Exit: magnet:?xt=urn:btih:a4753c9afa2326a1480f8a12010f044c723b1cf4&dn=%5BMagicStar%5D%20MIU404%20EP05%20%5BWEBDL%5D%20%5B1080p%5D&tr=http%3A%2F%2Fnyaa.tracker.wf%3A7777%2Fannounce&tr=udp%3A%2F%2Fopen.stealth.si%3A80%2Fannounce&tr=udp%3A%2F%2Ftracker.opentrackr.org%3A1337%2Fannounce&tr=udp%3A%2F%2Fexodus.desync.com%3A6969%2Fannounce&tr=udp%3A%2F%2Ftracker.torrent.eu.org%3A451%2Fannounce\n",
            "Enter Magnet Link Or Type Exit: magnet:?xt=urn:btih:c8a7685560f66039d2e3b0d34523921c42d41ae8&dn=%5BMagicStar%5D%20MIU404%20EP03%20%5BWEBDL%5D%20%5B1080p%5D&tr=http%3A%2F%2Fnyaa.tracker.wf%3A7777%2Fannounce&tr=udp%3A%2F%2Fopen.stealth.si%3A80%2Fannounce&tr=udp%3A%2F%2Ftracker.opentrackr.org%3A1337%2Fannounce&tr=udp%3A%2F%2Fexodus.desync.com%3A6969%2Fannounce&tr=udp%3A%2F%2Ftracker.torrent.eu.org%3A451%2Fannounce\n",
            "Enter Magnet Link Or Type Exit: exit\n"
          ]
        }
      ],
      "source": [
        "params = {\"save_path\": \"/content/drive/My Drive/Torrent\"}\n",
        "\n",
        "while True:\n",
        "    magnet_link = input(\"Enter Magnet Link Or Type Exit: \")\n",
        "    if magnet_link.lower() == \"exit\":\n",
        "        break\n",
        "    downloads.append(\n",
        "        lt.add_magnet_uri(ses, magnet_link, params)\n",
        "    )\n"
      ]
    },
    {
      "cell_type": "markdown",
      "metadata": {
        "id": "m-a1CUP39YOu"
      },
      "source": [
        "### Start Download\n",
        "Source: https://stackoverflow.com/a/5494823/7957705 and [#3 issue](https://github.com/FKLC/Torrent-To-Google-Drive-Downloader/issues/3) which refers to this [stackoverflow question](https://stackoverflow.com/a/6053350/7957705)"
      ]
    },
    {
      "cell_type": "code",
      "execution_count": null,
      "metadata": {
        "colab": {
          "base_uri": "https://localhost:8080/",
          "height": 409,
          "referenced_widgets": [
            "eb1f3d847e344068b1c51f32419c5b54",
            "523750cae2a346aab3171a12bfec32ec",
            "60eba1266ec841d583cfd112b226ffb3",
            "9718c3976cf5492f9a7fdc8bd0598083",
            "c7c5439b6bb248f38c126d62bcea179c",
            "daeae707e4394567bb39487970769a90",
            "c62deebe33594e469a80aa389ef59911",
            "b049fd45497f40038fa9d7c20590327e",
            "7fe7303aa7d5400082263357fd7284c6",
            "c3ee17ca2e88464c9884cd1e7b050b9d",
            "9af895f8cfbf4385abd63095527c57c6",
            "5fe6142e09024a79879f81c993c69154",
            "2be7400da4314a089271175b4e450282",
            "b35b6306b0034eef9ec66174ef312d9d",
            "f94d1cf15546428ca9320bba4e8092e8",
            "dc205b9d1e80495eac12f6579fe37f77",
            "2e707dfdb716441aa9811873627e5301",
            "05ecf60f3b4447d8ba52fc3f3b87de99",
            "76c433471940495e8ee399178cc2a345",
            "cfa65dd3ec7e454bbe3ade598e38cfb1",
            "dbba14bdb24f43cc8e66b124614d0294",
            "d6c406b5c40a4bf5bf0e26af075267e2",
            "283e8d25c161490aab6b99609347be5d",
            "e06f45ce106b417ea100376f638255ab",
            "235d896da2064c09bcf28113a0b79b8c",
            "1e303260b4114884b8a348fba0d2f297",
            "416fbb276180463d9b5b128b9b17ce5c"
          ]
        },
        "id": "DBNoYYoSuDBT",
        "outputId": "4b6a52d2-956a-4bee-bbae-21d54bfe8a89"
      },
      "outputs": [
        {
          "output_type": "display_data",
          "data": {
            "text/plain": [
              "FloatSlider(value=0.0, disabled=True, layout=Layout(width='auto'), step=0.01, style=SliderStyle(description_wi…"
            ],
            "application/vnd.jupyter.widget-view+json": {
              "version_major": 2,
              "version_minor": 0,
              "model_id": "eb1f3d847e344068b1c51f32419c5b54"
            }
          },
          "metadata": {}
        },
        {
          "output_type": "display_data",
          "data": {
            "text/plain": [
              "FloatSlider(value=0.0, disabled=True, layout=Layout(width='auto'), step=0.01, style=SliderStyle(description_wi…"
            ],
            "application/vnd.jupyter.widget-view+json": {
              "version_major": 2,
              "version_minor": 0,
              "model_id": "9718c3976cf5492f9a7fdc8bd0598083"
            }
          },
          "metadata": {}
        },
        {
          "output_type": "display_data",
          "data": {
            "text/plain": [
              "FloatSlider(value=0.0, disabled=True, layout=Layout(width='auto'), step=0.01, style=SliderStyle(description_wi…"
            ],
            "application/vnd.jupyter.widget-view+json": {
              "version_major": 2,
              "version_minor": 0,
              "model_id": "daeae707e4394567bb39487970769a90"
            }
          },
          "metadata": {}
        },
        {
          "output_type": "display_data",
          "data": {
            "text/plain": [
              "FloatSlider(value=0.0, disabled=True, layout=Layout(width='auto'), step=0.01, style=SliderStyle(description_wi…"
            ],
            "application/vnd.jupyter.widget-view+json": {
              "version_major": 2,
              "version_minor": 0,
              "model_id": "b049fd45497f40038fa9d7c20590327e"
            }
          },
          "metadata": {}
        },
        {
          "output_type": "display_data",
          "data": {
            "text/plain": [
              "FloatSlider(value=0.0, disabled=True, layout=Layout(width='auto'), step=0.01, style=SliderStyle(description_wi…"
            ],
            "application/vnd.jupyter.widget-view+json": {
              "version_major": 2,
              "version_minor": 0,
              "model_id": "c3ee17ca2e88464c9884cd1e7b050b9d"
            }
          },
          "metadata": {}
        },
        {
          "output_type": "display_data",
          "data": {
            "text/plain": [
              "FloatSlider(value=0.0, disabled=True, layout=Layout(width='auto'), step=0.01, style=SliderStyle(description_wi…"
            ],
            "application/vnd.jupyter.widget-view+json": {
              "version_major": 2,
              "version_minor": 0,
              "model_id": "5fe6142e09024a79879f81c993c69154"
            }
          },
          "metadata": {}
        },
        {
          "output_type": "display_data",
          "data": {
            "text/plain": [
              "FloatSlider(value=0.0, disabled=True, layout=Layout(width='auto'), step=0.01, style=SliderStyle(description_wi…"
            ],
            "application/vnd.jupyter.widget-view+json": {
              "version_major": 2,
              "version_minor": 0,
              "model_id": "b35b6306b0034eef9ec66174ef312d9d"
            }
          },
          "metadata": {}
        },
        {
          "output_type": "display_data",
          "data": {
            "text/plain": [
              "FloatSlider(value=0.0, disabled=True, layout=Layout(width='auto'), step=0.01, style=SliderStyle(description_wi…"
            ],
            "application/vnd.jupyter.widget-view+json": {
              "version_major": 2,
              "version_minor": 0,
              "model_id": "dc205b9d1e80495eac12f6579fe37f77"
            }
          },
          "metadata": {}
        },
        {
          "output_type": "display_data",
          "data": {
            "text/plain": [
              "FloatSlider(value=0.0, disabled=True, layout=Layout(width='auto'), step=0.01, style=SliderStyle(description_wi…"
            ],
            "application/vnd.jupyter.widget-view+json": {
              "version_major": 2,
              "version_minor": 0,
              "model_id": "05ecf60f3b4447d8ba52fc3f3b87de99"
            }
          },
          "metadata": {}
        },
        {
          "output_type": "display_data",
          "data": {
            "text/plain": [
              "FloatSlider(value=0.0, disabled=True, layout=Layout(width='auto'), step=0.01, style=SliderStyle(description_wi…"
            ],
            "application/vnd.jupyter.widget-view+json": {
              "version_major": 2,
              "version_minor": 0,
              "model_id": "cfa65dd3ec7e454bbe3ade598e38cfb1"
            }
          },
          "metadata": {}
        },
        {
          "output_type": "display_data",
          "data": {
            "text/plain": [
              "FloatSlider(value=0.0, disabled=True, layout=Layout(width='auto'), step=0.01, style=SliderStyle(description_wi…"
            ],
            "application/vnd.jupyter.widget-view+json": {
              "version_major": 2,
              "version_minor": 0,
              "model_id": "d6c406b5c40a4bf5bf0e26af075267e2"
            }
          },
          "metadata": {}
        },
        {
          "output_type": "display_data",
          "data": {
            "text/plain": [
              "FloatSlider(value=0.0, disabled=True, layout=Layout(width='auto'), step=0.01, style=SliderStyle(description_wi…"
            ],
            "application/vnd.jupyter.widget-view+json": {
              "version_major": 2,
              "version_minor": 0,
              "model_id": "e06f45ce106b417ea100376f638255ab"
            }
          },
          "metadata": {}
        },
        {
          "output_type": "display_data",
          "data": {
            "text/plain": [
              "FloatSlider(value=0.0, disabled=True, layout=Layout(width='auto'), step=0.01, style=SliderStyle(description_wi…"
            ],
            "application/vnd.jupyter.widget-view+json": {
              "version_major": 2,
              "version_minor": 0,
              "model_id": "1e303260b4114884b8a348fba0d2f297"
            }
          },
          "metadata": {}
        }
      ],
      "source": [
        "import time\n",
        "from IPython.display import display\n",
        "import ipywidgets as widgets\n",
        "\n",
        "state_str = [\n",
        "    \"queued\",\n",
        "    \"checking\",\n",
        "    \"downloading metadata\",\n",
        "    \"downloading\",\n",
        "    \"finished\",\n",
        "    \"seeding\",\n",
        "    \"allocating\",\n",
        "    \"checking fastresume\",\n",
        "]\n",
        "\n",
        "layout = widgets.Layout(width=\"auto\")\n",
        "style = {\"description_width\": \"initial\"}\n",
        "download_bars = [\n",
        "    widgets.FloatSlider(\n",
        "        step=0.01, disabled=True, layout=layout, style=style\n",
        "    )\n",
        "    for _ in downloads\n",
        "]\n",
        "display(*download_bars)\n",
        "\n",
        "while downloads:\n",
        "    next_shift = 0\n",
        "    for index, download in enumerate(downloads[:]):\n",
        "        bar = download_bars[index + next_shift]\n",
        "        if not download.is_seed():\n",
        "            s = download.status()\n",
        "\n",
        "            bar.description = \" \".join(\n",
        "                [\n",
        "                    download.name(),\n",
        "                    str(s.download_rate / 1000),\n",
        "                    \"kB/s\",\n",
        "                    state_str[s.state],\n",
        "                ]\n",
        "            )\n",
        "            bar.value = s.progress * 100\n",
        "        else:\n",
        "            next_shift -= 1\n",
        "            ses.remove_torrent(download)\n",
        "            downloads.remove(download)\n",
        "            bar.close() # Seems to be not working in Colab (see https://github.com/googlecolab/colabtools/issues/726#issue-486731758)\n",
        "            download_bars.remove(bar)\n",
        "            print(download.name(), \"complete\")\n",
        "    time.sleep(1)\n"
      ]
    }
  ],
  "metadata": {
    "colab": {
      "name": "Torrent To Google Drive Downloader",
      "provenance": [],
      "gpuType": "T4",
      "include_colab_link": true
    },
    "kernelspec": {
      "display_name": "Python 3",
      "name": "python3"
    },
    "language_info": {
      "codemirror_mode": {
        "name": "ipython",
        "version": 3
      },
      "file_extension": ".py",
      "mimetype": "text/x-python",
      "name": "python",
      "nbconvert_exporter": "python",
      "pygments_lexer": "ipython3",
      "version": "3.9.7"
    },
    "accelerator": "GPU",
    "widgets": {
      "application/vnd.jupyter.widget-state+json": {
        "eb1f3d847e344068b1c51f32419c5b54": {
          "model_module": "@jupyter-widgets/controls",
          "model_name": "FloatSliderModel",
          "model_module_version": "1.5.0",
          "state": {
            "_dom_classes": [],
            "_model_module": "@jupyter-widgets/controls",
            "_model_module_version": "1.5.0",
            "_model_name": "FloatSliderModel",
            "_view_count": null,
            "_view_module": "@jupyter-widgets/controls",
            "_view_module_version": "1.5.0",
            "_view_name": "FloatSliderView",
            "continuous_update": true,
            "description": "[MagicStar] Oshi no Ko - The Final Act - 2024 [WEBDL] [1080p] [AMZN] [JPN_ENG_CHS_CHT_SUB] 2882.783 kB/s downloading",
            "description_tooltip": null,
            "disabled": true,
            "layout": "IPY_MODEL_523750cae2a346aab3171a12bfec32ec",
            "max": 100,
            "min": 0,
            "orientation": "horizontal",
            "readout": true,
            "readout_format": ".2f",
            "step": 0.01,
            "style": "IPY_MODEL_60eba1266ec841d583cfd112b226ffb3",
            "value": 12.694400548934937
          }
        },
        "523750cae2a346aab3171a12bfec32ec": {
          "model_module": "@jupyter-widgets/base",
          "model_name": "LayoutModel",
          "model_module_version": "1.2.0",
          "state": {
            "_model_module": "@jupyter-widgets/base",
            "_model_module_version": "1.2.0",
            "_model_name": "LayoutModel",
            "_view_count": null,
            "_view_module": "@jupyter-widgets/base",
            "_view_module_version": "1.2.0",
            "_view_name": "LayoutView",
            "align_content": null,
            "align_items": null,
            "align_self": null,
            "border": null,
            "bottom": null,
            "display": null,
            "flex": null,
            "flex_flow": null,
            "grid_area": null,
            "grid_auto_columns": null,
            "grid_auto_flow": null,
            "grid_auto_rows": null,
            "grid_column": null,
            "grid_gap": null,
            "grid_row": null,
            "grid_template_areas": null,
            "grid_template_columns": null,
            "grid_template_rows": null,
            "height": null,
            "justify_content": null,
            "justify_items": null,
            "left": null,
            "margin": null,
            "max_height": null,
            "max_width": null,
            "min_height": null,
            "min_width": null,
            "object_fit": null,
            "object_position": null,
            "order": null,
            "overflow": null,
            "overflow_x": null,
            "overflow_y": null,
            "padding": null,
            "right": null,
            "top": null,
            "visibility": null,
            "width": "auto"
          }
        },
        "60eba1266ec841d583cfd112b226ffb3": {
          "model_module": "@jupyter-widgets/controls",
          "model_name": "SliderStyleModel",
          "model_module_version": "1.5.0",
          "state": {
            "_model_module": "@jupyter-widgets/controls",
            "_model_module_version": "1.5.0",
            "_model_name": "SliderStyleModel",
            "_view_count": null,
            "_view_module": "@jupyter-widgets/base",
            "_view_module_version": "1.2.0",
            "_view_name": "StyleView",
            "description_width": "initial",
            "handle_color": null
          }
        },
        "9718c3976cf5492f9a7fdc8bd0598083": {
          "model_module": "@jupyter-widgets/controls",
          "model_name": "FloatSliderModel",
          "model_module_version": "1.5.0",
          "state": {
            "_dom_classes": [],
            "_model_module": "@jupyter-widgets/controls",
            "_model_module_version": "1.5.0",
            "_model_name": "FloatSliderModel",
            "_view_count": null,
            "_view_module": "@jupyter-widgets/controls",
            "_view_module_version": "1.5.0",
            "_view_name": "FloatSliderView",
            "continuous_update": true,
            "description": "[MagicStar] MIU404 [WEBDL] [1080p] [Netflix] [JPN_ENG_CHS_CHT_SUB] 1094.251 kB/s downloading",
            "description_tooltip": null,
            "disabled": true,
            "layout": "IPY_MODEL_523750cae2a346aab3171a12bfec32ec",
            "max": 100,
            "min": 0,
            "orientation": "horizontal",
            "readout": true,
            "readout_format": ".2f",
            "step": 0.01,
            "style": "IPY_MODEL_c7c5439b6bb248f38c126d62bcea179c",
            "value": 0.583899999037385
          }
        },
        "c7c5439b6bb248f38c126d62bcea179c": {
          "model_module": "@jupyter-widgets/controls",
          "model_name": "SliderStyleModel",
          "model_module_version": "1.5.0",
          "state": {
            "_model_module": "@jupyter-widgets/controls",
            "_model_module_version": "1.5.0",
            "_model_name": "SliderStyleModel",
            "_view_count": null,
            "_view_module": "@jupyter-widgets/base",
            "_view_module_version": "1.2.0",
            "_view_name": "StyleView",
            "description_width": "initial",
            "handle_color": null
          }
        },
        "daeae707e4394567bb39487970769a90": {
          "model_module": "@jupyter-widgets/controls",
          "model_name": "FloatSliderModel",
          "model_module_version": "1.5.0",
          "state": {
            "_dom_classes": [],
            "_model_module": "@jupyter-widgets/controls",
            "_model_module_version": "1.5.0",
            "_model_name": "FloatSliderModel",
            "_view_count": null,
            "_view_module": "@jupyter-widgets/controls",
            "_view_module_version": "1.5.0",
            "_view_name": "FloatSliderView",
            "continuous_update": true,
            "description": "[MagicStar] MIU404 EP08 [WEBDL] [1080p] 0.007 kB/s downloading metadata",
            "description_tooltip": null,
            "disabled": true,
            "layout": "IPY_MODEL_523750cae2a346aab3171a12bfec32ec",
            "max": 100,
            "min": 0,
            "orientation": "horizontal",
            "readout": true,
            "readout_format": ".2f",
            "step": 0.01,
            "style": "IPY_MODEL_c62deebe33594e469a80aa389ef59911",
            "value": 0
          }
        },
        "c62deebe33594e469a80aa389ef59911": {
          "model_module": "@jupyter-widgets/controls",
          "model_name": "SliderStyleModel",
          "model_module_version": "1.5.0",
          "state": {
            "_model_module": "@jupyter-widgets/controls",
            "_model_module_version": "1.5.0",
            "_model_name": "SliderStyleModel",
            "_view_count": null,
            "_view_module": "@jupyter-widgets/base",
            "_view_module_version": "1.2.0",
            "_view_name": "StyleView",
            "description_width": "initial",
            "handle_color": null
          }
        },
        "b049fd45497f40038fa9d7c20590327e": {
          "model_module": "@jupyter-widgets/controls",
          "model_name": "FloatSliderModel",
          "model_module_version": "1.5.0",
          "state": {
            "_dom_classes": [],
            "_model_module": "@jupyter-widgets/controls",
            "_model_module_version": "1.5.0",
            "_model_name": "FloatSliderModel",
            "_view_count": null,
            "_view_module": "@jupyter-widgets/controls",
            "_view_module_version": "1.5.0",
            "_view_name": "FloatSliderView",
            "continuous_update": true,
            "description": "[MagicStar] MIU404 EP09 [WEBDL] [1080p] 0.0 kB/s downloading metadata",
            "description_tooltip": null,
            "disabled": true,
            "layout": "IPY_MODEL_523750cae2a346aab3171a12bfec32ec",
            "max": 100,
            "min": 0,
            "orientation": "horizontal",
            "readout": true,
            "readout_format": ".2f",
            "step": 0.01,
            "style": "IPY_MODEL_7fe7303aa7d5400082263357fd7284c6",
            "value": 0
          }
        },
        "7fe7303aa7d5400082263357fd7284c6": {
          "model_module": "@jupyter-widgets/controls",
          "model_name": "SliderStyleModel",
          "model_module_version": "1.5.0",
          "state": {
            "_model_module": "@jupyter-widgets/controls",
            "_model_module_version": "1.5.0",
            "_model_name": "SliderStyleModel",
            "_view_count": null,
            "_view_module": "@jupyter-widgets/base",
            "_view_module_version": "1.2.0",
            "_view_name": "StyleView",
            "description_width": "initial",
            "handle_color": null
          }
        },
        "c3ee17ca2e88464c9884cd1e7b050b9d": {
          "model_module": "@jupyter-widgets/controls",
          "model_name": "FloatSliderModel",
          "model_module_version": "1.5.0",
          "state": {
            "_dom_classes": [],
            "_model_module": "@jupyter-widgets/controls",
            "_model_module_version": "1.5.0",
            "_model_name": "FloatSliderModel",
            "_view_count": null,
            "_view_module": "@jupyter-widgets/controls",
            "_view_module_version": "1.5.0",
            "_view_name": "FloatSliderView",
            "continuous_update": true,
            "description": "[MagicStar] MIU404 EP10 [WEBDL] [1080p] 0.02 kB/s downloading metadata",
            "description_tooltip": null,
            "disabled": true,
            "layout": "IPY_MODEL_523750cae2a346aab3171a12bfec32ec",
            "max": 100,
            "min": 0,
            "orientation": "horizontal",
            "readout": true,
            "readout_format": ".2f",
            "step": 0.01,
            "style": "IPY_MODEL_9af895f8cfbf4385abd63095527c57c6",
            "value": 0
          }
        },
        "9af895f8cfbf4385abd63095527c57c6": {
          "model_module": "@jupyter-widgets/controls",
          "model_name": "SliderStyleModel",
          "model_module_version": "1.5.0",
          "state": {
            "_model_module": "@jupyter-widgets/controls",
            "_model_module_version": "1.5.0",
            "_model_name": "SliderStyleModel",
            "_view_count": null,
            "_view_module": "@jupyter-widgets/base",
            "_view_module_version": "1.2.0",
            "_view_name": "StyleView",
            "description_width": "initial",
            "handle_color": null
          }
        },
        "5fe6142e09024a79879f81c993c69154": {
          "model_module": "@jupyter-widgets/controls",
          "model_name": "FloatSliderModel",
          "model_module_version": "1.5.0",
          "state": {
            "_dom_classes": [],
            "_model_module": "@jupyter-widgets/controls",
            "_model_module_version": "1.5.0",
            "_model_name": "FloatSliderModel",
            "_view_count": null,
            "_view_module": "@jupyter-widgets/controls",
            "_view_module_version": "1.5.0",
            "_view_name": "FloatSliderView",
            "continuous_update": true,
            "description": "[MagicStar] MIU404 EP11 END [WEBDL] [1080p] 0.0 kB/s downloading metadata",
            "description_tooltip": null,
            "disabled": true,
            "layout": "IPY_MODEL_523750cae2a346aab3171a12bfec32ec",
            "max": 100,
            "min": 0,
            "orientation": "horizontal",
            "readout": true,
            "readout_format": ".2f",
            "step": 0.01,
            "style": "IPY_MODEL_2be7400da4314a089271175b4e450282",
            "value": 0
          }
        },
        "2be7400da4314a089271175b4e450282": {
          "model_module": "@jupyter-widgets/controls",
          "model_name": "SliderStyleModel",
          "model_module_version": "1.5.0",
          "state": {
            "_model_module": "@jupyter-widgets/controls",
            "_model_module_version": "1.5.0",
            "_model_name": "SliderStyleModel",
            "_view_count": null,
            "_view_module": "@jupyter-widgets/base",
            "_view_module_version": "1.2.0",
            "_view_name": "StyleView",
            "description_width": "initial",
            "handle_color": null
          }
        },
        "b35b6306b0034eef9ec66174ef312d9d": {
          "model_module": "@jupyter-widgets/controls",
          "model_name": "FloatSliderModel",
          "model_module_version": "1.5.0",
          "state": {
            "_dom_classes": [],
            "_model_module": "@jupyter-widgets/controls",
            "_model_module_version": "1.5.0",
            "_model_name": "FloatSliderModel",
            "_view_count": null,
            "_view_module": "@jupyter-widgets/controls",
            "_view_module_version": "1.5.0",
            "_view_name": "FloatSliderView",
            "continuous_update": true,
            "description": "[MagicStar] MIU404 EP01 [WEBDL] [1080p] 0.0 kB/s downloading metadata",
            "description_tooltip": null,
            "disabled": true,
            "layout": "IPY_MODEL_523750cae2a346aab3171a12bfec32ec",
            "max": 100,
            "min": 0,
            "orientation": "horizontal",
            "readout": true,
            "readout_format": ".2f",
            "step": 0.01,
            "style": "IPY_MODEL_f94d1cf15546428ca9320bba4e8092e8",
            "value": 0
          }
        },
        "f94d1cf15546428ca9320bba4e8092e8": {
          "model_module": "@jupyter-widgets/controls",
          "model_name": "SliderStyleModel",
          "model_module_version": "1.5.0",
          "state": {
            "_model_module": "@jupyter-widgets/controls",
            "_model_module_version": "1.5.0",
            "_model_name": "SliderStyleModel",
            "_view_count": null,
            "_view_module": "@jupyter-widgets/base",
            "_view_module_version": "1.2.0",
            "_view_name": "StyleView",
            "description_width": "initial",
            "handle_color": null
          }
        },
        "dc205b9d1e80495eac12f6579fe37f77": {
          "model_module": "@jupyter-widgets/controls",
          "model_name": "FloatSliderModel",
          "model_module_version": "1.5.0",
          "state": {
            "_dom_classes": [],
            "_model_module": "@jupyter-widgets/controls",
            "_model_module_version": "1.5.0",
            "_model_name": "FloatSliderModel",
            "_view_count": null,
            "_view_module": "@jupyter-widgets/controls",
            "_view_module_version": "1.5.0",
            "_view_name": "FloatSliderView",
            "continuous_update": true,
            "description": "[MagicStar] MIU404 EP04 [WEBDL] [1080p] 0.0 kB/s downloading metadata",
            "description_tooltip": null,
            "disabled": true,
            "layout": "IPY_MODEL_523750cae2a346aab3171a12bfec32ec",
            "max": 100,
            "min": 0,
            "orientation": "horizontal",
            "readout": true,
            "readout_format": ".2f",
            "step": 0.01,
            "style": "IPY_MODEL_2e707dfdb716441aa9811873627e5301",
            "value": 0
          }
        },
        "2e707dfdb716441aa9811873627e5301": {
          "model_module": "@jupyter-widgets/controls",
          "model_name": "SliderStyleModel",
          "model_module_version": "1.5.0",
          "state": {
            "_model_module": "@jupyter-widgets/controls",
            "_model_module_version": "1.5.0",
            "_model_name": "SliderStyleModel",
            "_view_count": null,
            "_view_module": "@jupyter-widgets/base",
            "_view_module_version": "1.2.0",
            "_view_name": "StyleView",
            "description_width": "initial",
            "handle_color": null
          }
        },
        "05ecf60f3b4447d8ba52fc3f3b87de99": {
          "model_module": "@jupyter-widgets/controls",
          "model_name": "FloatSliderModel",
          "model_module_version": "1.5.0",
          "state": {
            "_dom_classes": [],
            "_model_module": "@jupyter-widgets/controls",
            "_model_module_version": "1.5.0",
            "_model_name": "FloatSliderModel",
            "_view_count": null,
            "_view_module": "@jupyter-widgets/controls",
            "_view_module_version": "1.5.0",
            "_view_name": "FloatSliderView",
            "continuous_update": true,
            "description": "[MagicStar] MIU404 EP06 [WEBDL] [1080p] 0.0 kB/s downloading metadata",
            "description_tooltip": null,
            "disabled": true,
            "layout": "IPY_MODEL_523750cae2a346aab3171a12bfec32ec",
            "max": 100,
            "min": 0,
            "orientation": "horizontal",
            "readout": true,
            "readout_format": ".2f",
            "step": 0.01,
            "style": "IPY_MODEL_76c433471940495e8ee399178cc2a345",
            "value": 0
          }
        },
        "76c433471940495e8ee399178cc2a345": {
          "model_module": "@jupyter-widgets/controls",
          "model_name": "SliderStyleModel",
          "model_module_version": "1.5.0",
          "state": {
            "_model_module": "@jupyter-widgets/controls",
            "_model_module_version": "1.5.0",
            "_model_name": "SliderStyleModel",
            "_view_count": null,
            "_view_module": "@jupyter-widgets/base",
            "_view_module_version": "1.2.0",
            "_view_name": "StyleView",
            "description_width": "initial",
            "handle_color": null
          }
        },
        "cfa65dd3ec7e454bbe3ade598e38cfb1": {
          "model_module": "@jupyter-widgets/controls",
          "model_name": "FloatSliderModel",
          "model_module_version": "1.5.0",
          "state": {
            "_dom_classes": [],
            "_model_module": "@jupyter-widgets/controls",
            "_model_module_version": "1.5.0",
            "_model_name": "FloatSliderModel",
            "_view_count": null,
            "_view_module": "@jupyter-widgets/controls",
            "_view_module_version": "1.5.0",
            "_view_name": "FloatSliderView",
            "continuous_update": true,
            "description": "[MagicStar] MIU404 EP07 [WEBDL] [1080p] 0.0 kB/s downloading metadata",
            "description_tooltip": null,
            "disabled": true,
            "layout": "IPY_MODEL_523750cae2a346aab3171a12bfec32ec",
            "max": 100,
            "min": 0,
            "orientation": "horizontal",
            "readout": true,
            "readout_format": ".2f",
            "step": 0.01,
            "style": "IPY_MODEL_dbba14bdb24f43cc8e66b124614d0294",
            "value": 0
          }
        },
        "dbba14bdb24f43cc8e66b124614d0294": {
          "model_module": "@jupyter-widgets/controls",
          "model_name": "SliderStyleModel",
          "model_module_version": "1.5.0",
          "state": {
            "_model_module": "@jupyter-widgets/controls",
            "_model_module_version": "1.5.0",
            "_model_name": "SliderStyleModel",
            "_view_count": null,
            "_view_module": "@jupyter-widgets/base",
            "_view_module_version": "1.2.0",
            "_view_name": "StyleView",
            "description_width": "initial",
            "handle_color": null
          }
        },
        "d6c406b5c40a4bf5bf0e26af075267e2": {
          "model_module": "@jupyter-widgets/controls",
          "model_name": "FloatSliderModel",
          "model_module_version": "1.5.0",
          "state": {
            "_dom_classes": [],
            "_model_module": "@jupyter-widgets/controls",
            "_model_module_version": "1.5.0",
            "_model_name": "FloatSliderModel",
            "_view_count": null,
            "_view_module": "@jupyter-widgets/controls",
            "_view_module_version": "1.5.0",
            "_view_name": "FloatSliderView",
            "continuous_update": true,
            "description": "[MagicStar] MIU404 EP02 [WEBDL] [1080p] 0.0 kB/s downloading metadata",
            "description_tooltip": null,
            "disabled": true,
            "layout": "IPY_MODEL_523750cae2a346aab3171a12bfec32ec",
            "max": 100,
            "min": 0,
            "orientation": "horizontal",
            "readout": true,
            "readout_format": ".2f",
            "step": 0.01,
            "style": "IPY_MODEL_283e8d25c161490aab6b99609347be5d",
            "value": 0
          }
        },
        "283e8d25c161490aab6b99609347be5d": {
          "model_module": "@jupyter-widgets/controls",
          "model_name": "SliderStyleModel",
          "model_module_version": "1.5.0",
          "state": {
            "_model_module": "@jupyter-widgets/controls",
            "_model_module_version": "1.5.0",
            "_model_name": "SliderStyleModel",
            "_view_count": null,
            "_view_module": "@jupyter-widgets/base",
            "_view_module_version": "1.2.0",
            "_view_name": "StyleView",
            "description_width": "initial",
            "handle_color": null
          }
        },
        "e06f45ce106b417ea100376f638255ab": {
          "model_module": "@jupyter-widgets/controls",
          "model_name": "FloatSliderModel",
          "model_module_version": "1.5.0",
          "state": {
            "_dom_classes": [],
            "_model_module": "@jupyter-widgets/controls",
            "_model_module_version": "1.5.0",
            "_model_name": "FloatSliderModel",
            "_view_count": null,
            "_view_module": "@jupyter-widgets/controls",
            "_view_module_version": "1.5.0",
            "_view_name": "FloatSliderView",
            "continuous_update": true,
            "description": "[MagicStar] MIU404 EP05 [WEBDL] [1080p] 0.0 kB/s downloading metadata",
            "description_tooltip": null,
            "disabled": true,
            "layout": "IPY_MODEL_523750cae2a346aab3171a12bfec32ec",
            "max": 100,
            "min": 0,
            "orientation": "horizontal",
            "readout": true,
            "readout_format": ".2f",
            "step": 0.01,
            "style": "IPY_MODEL_235d896da2064c09bcf28113a0b79b8c",
            "value": 0
          }
        },
        "235d896da2064c09bcf28113a0b79b8c": {
          "model_module": "@jupyter-widgets/controls",
          "model_name": "SliderStyleModel",
          "model_module_version": "1.5.0",
          "state": {
            "_model_module": "@jupyter-widgets/controls",
            "_model_module_version": "1.5.0",
            "_model_name": "SliderStyleModel",
            "_view_count": null,
            "_view_module": "@jupyter-widgets/base",
            "_view_module_version": "1.2.0",
            "_view_name": "StyleView",
            "description_width": "initial",
            "handle_color": null
          }
        },
        "1e303260b4114884b8a348fba0d2f297": {
          "model_module": "@jupyter-widgets/controls",
          "model_name": "FloatSliderModel",
          "model_module_version": "1.5.0",
          "state": {
            "_dom_classes": [],
            "_model_module": "@jupyter-widgets/controls",
            "_model_module_version": "1.5.0",
            "_model_name": "FloatSliderModel",
            "_view_count": null,
            "_view_module": "@jupyter-widgets/controls",
            "_view_module_version": "1.5.0",
            "_view_name": "FloatSliderView",
            "continuous_update": true,
            "description": "[MagicStar] MIU404 EP03 [WEBDL] [1080p] 0.0 kB/s downloading metadata",
            "description_tooltip": null,
            "disabled": true,
            "layout": "IPY_MODEL_523750cae2a346aab3171a12bfec32ec",
            "max": 100,
            "min": 0,
            "orientation": "horizontal",
            "readout": true,
            "readout_format": ".2f",
            "step": 0.01,
            "style": "IPY_MODEL_416fbb276180463d9b5b128b9b17ce5c",
            "value": 0
          }
        },
        "416fbb276180463d9b5b128b9b17ce5c": {
          "model_module": "@jupyter-widgets/controls",
          "model_name": "SliderStyleModel",
          "model_module_version": "1.5.0",
          "state": {
            "_model_module": "@jupyter-widgets/controls",
            "_model_module_version": "1.5.0",
            "_model_name": "SliderStyleModel",
            "_view_count": null,
            "_view_module": "@jupyter-widgets/base",
            "_view_module_version": "1.2.0",
            "_view_name": "StyleView",
            "description_width": "initial",
            "handle_color": null
          }
        }
      }
    }
  },
  "nbformat": 4,
  "nbformat_minor": 0
}